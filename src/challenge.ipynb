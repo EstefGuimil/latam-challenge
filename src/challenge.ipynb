{
 "cells": [
  {
   "cell_type": "markdown",
   "metadata": {},
   "source": [
    "# Data Engineer Challenge"
   ]
  },
  {
   "cell_type": "markdown",
   "metadata": {},
   "source": [
    "# Ejercicios"
   ]
  },
  {
   "cell_type": "markdown",
   "metadata": {},
   "source": [
    "1. Las top 10 fechas donde hay más tweets. Mencionar el usuario (username) que más publicaciones tiene por cada uno de esos días.\n",
    "    \n",
    "    Returns: [(datetime.date(1999, 11, 15), \"LATAM321\"), (datetime.date(1999, 7, 15), \"LATAM_CHI\"), ...]  "
   ]
  },
  {
   "cell_type": "markdown",
   "metadata": {},
   "source": [
    "2. Los top 10 emojis más usados con su respectivo conteo. \n",
    "\n",
    "    Returns: [(\"✈️\", 6856), (\"❤️\", 5876), ...]"
   ]
  },
  {
   "cell_type": "markdown",
   "metadata": {},
   "source": [
    "3. El top 10 histórico de usuarios (username) más influyentes en función del conteo de las menciones (@) que registra cada uno de ellos.\n",
    "    \n",
    "    Returns: [(\"LATAM321\", 387), (\"LATAM_CHI\", 129), ...]"
   ]
  },
  {
   "cell_type": "markdown",
   "metadata": {},
   "source": [
    "# Aclaraciones"
   ]
  },
  {
   "cell_type": "markdown",
   "metadata": {},
   "source": [
    "1. Para la solución de los tres ejercicios como primer paso se obtuvo el esquema de la información compartida para poder entender de donde se puede obtener cada parte.\n",
    "\n",
    "    Columnas dentro del archivo leído:\n",
    "\n",
    "    * content: string,\n",
    "    * conversationId: long, \n",
    "    * date: string, \n",
    "    * id: long, \n",
    "    * lang: string,\n",
    "    * likeCount: long, \n",
    "    * media: array, \n",
    "    * mentionedUsers: array, \n",
    "    * outlinks: array, \n",
    "    * quoteCount: long, \n",
    "    ...\n",
    "    * sourceUrl: string, \n",
    "    * tcooutlinks: array, \n",
    "    * url: string,\n",
    "    * user: struct\n",
    "\n",
    "    Struct User:\n",
    "\n",
    "    * created: string,\n",
    "    * description: string,\n",
    "    ...\n",
    "    * username: string,\n",
    "    * verified: boolean\n",
    "\n",
    "    Array Mentioned Users:\n",
    "\n",
    "    * created: string,\n",
    "    * description: string,\n",
    "    ...\n",
    "    * username: string,\n",
    "    * verified: strin\n",
    "\n",
    "\n",
    "**NOTA**: Los \"...\" indican que hay más campos que no se listaron. La idea fue mostrar los más relevantes para los ejercicios propuestos y algunos extra de ejemplo."
   ]
  },
  {
   "cell_type": "markdown",
   "metadata": {},
   "source": [
    "2. Para conseguir las dos versiones solicitadas en el enunciado, una optimizando memoria y la otra optimizando tiempo de ejecución; opte por utilizar en una de las soluciones pyspark y en la otra python + pandas."
   ]
  },
  {
   "cell_type": "markdown",
   "metadata": {},
   "source": [
    "3. Antes de probar los resultados de los ejercicios es importante que el archivo que se quiere evaluar se encuentre en la carpeta **data** dentro del repositorio."
   ]
  },
  {
   "attachments": {
    "Captura%20de%20Pantalla%202023-11-17%20a%20la%28s%29%2013.29.48.png": {
     "image/png": "[encoded data removed]"
    }
   },
   "cell_type": "markdown",
   "metadata": {},
   "source": [
    "![Captura%20de%20Pantalla%202023-11-17%20a%20la%28s%29%2013.29.48.png](attachment:Captura%20de%20Pantalla%202023-11-17%20a%20la%28s%29%2013.29.48.png)"
   ]
  },
  {
   "cell_type": "markdown",
   "metadata": {},
   "source": [
    "4. Dentro de la carpeta src existe un archivo **testing.py** que contiene los tests creados para textear las 6 fuciones desarrolladas. Como mejora se podrian sumar más casos de uso porque actualmente solo se considera un archivo con pocos registros y un archivo con json vacío."
   ]
  },
  {
   "cell_type": "markdown",
   "metadata": {},
   "source": [
    "5. En el ejecicio 2 y en el 3 si bien implemente dos opciones de código la versión en spark es superior tanto en optimización de memoria como en optimización de tiempo de ejecución si se las compara entre si."
   ]
  },
  {
   "cell_type": "markdown",
   "metadata": {},
   "source": [
    "# Soluciones"
   ]
  },
  {
   "cell_type": "markdown",
   "metadata": {},
   "source": [
    "Los siguientes códigos son generales a todas las funciones:"
   ]
  },
  {
   "cell_type": "code",
   "execution_count": 5,
   "metadata": {},
   "outputs": [],
   "source": [
    "# Se utiliza para obtener el path donde esta el archivo que voy a leer\n",
    "import os\n",
    "\n",
    "file_path = \"farmers-protest-tweets-2021-2-4.json\"\n",
    "dir_root = os.path.dirname(os.path.abspath(\"\"))\n",
    "path = dir_root + \"/data/\" + file_path"
   ]
  },
  {
   "cell_type": "code",
   "execution_count": 2,
   "metadata": {},
   "outputs": [],
   "source": [
    "# Comando para cargar las funciones de memory_profiler \n",
    "%load_ext memory_profiler"
   ]
  },
  {
   "cell_type": "markdown",
   "metadata": {},
   "source": [
    "# Ejercicio 1"
   ]
  },
  {
   "cell_type": "markdown",
   "metadata": {},
   "source": [
    "Para poder retornar el top 10 de las fechas de mayor tweets y el username que más tweets hizo, por un lado tome la fecha de creación y conte cuantos tweets se hicieron cada día. Por otro lado tome por fecha y username la cantidad de tweets, y me quede de cada fecha con el username cuya cantidad fue mayor. Como último paso uni la información de los dos resultados parciales y genere un único resultado, usando como key la fecha del tweet.  \n",
    "Como **resultado** genere una lista de tuplas (fecha, username)."
   ]
  },
  {
   "cell_type": "markdown",
   "metadata": {},
   "source": [
    "# Optimización de Memoria"
   ]
  },
  {
   "cell_type": "markdown",
   "metadata": {},
   "source": [
    "En este caso opte por utilizar como **tecnología pyspark** que aprovecha mejor los recursos.   "
   ]
  },
  {
   "cell_type": "markdown",
   "metadata": {},
   "source": [
    "Código para ejecutar de solución"
   ]
  },
  {
   "cell_type": "code",
   "execution_count": 6,
   "metadata": {},
   "outputs": [],
   "source": [
    "from q1_memory import q1_memory\n",
    "\n",
    "print(q1_memory(path)) "
   ]
  },
  {
   "cell_type": "markdown",
   "metadata": {},
   "source": [
    "Código para analizar el tiempo de ejecución"
   ]
  },
  {
   "cell_type": "code",
   "execution_count": 15,
   "metadata": {
    "scrolled": true
   },
   "outputs": [],
   "source": [
    "from q1_memory import q1_memory\n",
    "%prun q1_memory(path) # 10.676 seconds ejemplo de una de las ejecuciones"
   ]
  },
  {
   "cell_type": "markdown",
   "metadata": {},
   "source": [
    "Código para analizar el uso de memoria"
   ]
  },
  {
   "cell_type": "code",
   "execution_count": 21,
   "metadata": {},
   "outputs": [],
   "source": [
    "from q1_memory import q1_memory\n",
    "\n",
    "# memit --> retorna el consumo general de memoria\n",
    "%memit q1_memory(path) # peak memory: 322.46 MiB, increment: -0.98 MiB ejemplo de una de las ejecuciones"
   ]
  },
  {
   "cell_type": "code",
   "execution_count": 16,
   "metadata": {},
   "outputs": [],
   "source": [
    "# mprun --> retorna el consumo linea por linea\n",
    "%mprun -f q1_memory q1_memory(path) "
   ]
  },
  {
   "cell_type": "markdown",
   "metadata": {},
   "source": [
    "# Optimización de Tiempo de ejecución"
   ]
  },
  {
   "cell_type": "markdown",
   "metadata": {},
   "source": [
    "En este caso opte por utilizar como **tecnología python/pandas**. "
   ]
  },
  {
   "cell_type": "markdown",
   "metadata": {},
   "source": [
    "Código para ejecutar la solución"
   ]
  },
  {
   "cell_type": "code",
   "execution_count": 2,
   "metadata": {},
   "outputs": [],
   "source": [
    "from q1_time import q1_time\n",
    "\n",
    "print(q1_time(path)) "
   ]
  },
  {
   "cell_type": "markdown",
   "metadata": {},
   "source": [
    "Código para analizar el tiempo de ejecución"
   ]
  },
  {
   "cell_type": "code",
   "execution_count": 40,
   "metadata": {
    "scrolled": true
   },
   "outputs": [],
   "source": [
    "from q1_time import q1_time\n",
    "%prun q1_time(path) # 7.907 seconds ejemplo de una de las ejecuciones"
   ]
  },
  {
   "cell_type": "markdown",
   "metadata": {},
   "source": [
    "Código para analizar el uso de memoria"
   ]
  },
  {
   "cell_type": "code",
   "execution_count": 1,
   "metadata": {},
   "outputs": [],
   "source": [
    "from q1_time import q1_time\n",
    "\n",
    "# memit --> retorna el consumo general de memoria\n",
    "%memit q1_time(path) # peak memory: 1636.82 MiB, increment: 1490.76 MiB ejemplo de una de las ejecuciones"
   ]
  },
  {
   "cell_type": "code",
   "execution_count": 16,
   "metadata": {},
   "outputs": [],
   "source": [
    "# mprun --> retorna el consumo linea por linea\n",
    "%mprun -f q1_time q1_time(path) "
   ]
  },
  {
   "cell_type": "markdown",
   "metadata": {},
   "source": [
    "# Ejercicio 2"
   ]
  },
  {
   "cell_type": "markdown",
   "metadata": {},
   "source": [
    "Para poder retornar el top 10 de emojis más usados de la información obtenida me quede solo con el campo content, que contiene el texto del tweet. Por cada uno de los tweets cree una nueva columna conteniendo un arreglo de los emojis que se utilizaron y descarte aquellas lineas que no contenian emojis. A continuacío conté la cantidad dee apariciones de cada emoji y retorne como **resultado** una lista de tuplas (emoji, cant)."
   ]
  },
  {
   "cell_type": "markdown",
   "metadata": {},
   "source": [
    "# Optimización de Memoria"
   ]
  },
  {
   "cell_type": "markdown",
   "metadata": {},
   "source": [
    "En este caso opte por utilizar como **tecnología pyspark** que aprovecha mejor los recursos.   "
   ]
  },
  {
   "cell_type": "markdown",
   "metadata": {},
   "source": [
    "Código para ejecutar de solución"
   ]
  },
  {
   "cell_type": "code",
   "execution_count": 28,
   "metadata": {},
   "outputs": [],
   "source": [
    "from q2_memory import q2_memory\n",
    "\n",
    "print(q2_memory(path)) "
   ]
  },
  {
   "cell_type": "markdown",
   "metadata": {},
   "source": [
    "Código para analizar el tiempo de ejecución"
   ]
  },
  {
   "cell_type": "code",
   "execution_count": 29,
   "metadata": {
    "scrolled": true
   },
   "outputs": [],
   "source": [
    "from q2_memory import q2_memory\n",
    "%prun q2_memory(path) # 16.582 seconds ejemplo de una de las ejecuciones"
   ]
  },
  {
   "cell_type": "markdown",
   "metadata": {},
   "source": [
    "Código para analizar el uso de memoria"
   ]
  },
  {
   "cell_type": "code",
   "execution_count": 30,
   "metadata": {},
   "outputs": [],
   "source": [
    "from q2_memory import q2_memory\n",
    "\n",
    "# memit --> retorna el consumo general de memoria\n",
    "%memit q2_memory(path) # peak memory: 397.19 MiB, increment: 0.00 MiB"
   ]
  },
  {
   "cell_type": "code",
   "execution_count": 16,
   "metadata": {},
   "outputs": [],
   "source": [
    "# mprun --> retorna el consumo linea por linea\n",
    "%mprun -f q2_memory q2_memory(path) "
   ]
  },
  {
   "cell_type": "markdown",
   "metadata": {},
   "source": [
    "# Optimización de Tiempo de ejecución"
   ]
  },
  {
   "cell_type": "markdown",
   "metadata": {},
   "source": [
    "En este caso opte por utilizar como **tecnología python/pandas**.   "
   ]
  },
  {
   "cell_type": "markdown",
   "metadata": {},
   "source": [
    "Código para ejecutar la solución"
   ]
  },
  {
   "cell_type": "code",
   "execution_count": 37,
   "metadata": {},
   "outputs": [],
   "source": [
    "from q2_time import q2_time\n",
    "\n",
    "print(q2_time(path)) "
   ]
  },
  {
   "cell_type": "markdown",
   "metadata": {},
   "source": [
    "Código para analizar el tiempo de ejecución"
   ]
  },
  {
   "cell_type": "code",
   "execution_count": 39,
   "metadata": {
    "scrolled": true
   },
   "outputs": [],
   "source": [
    "from q2_time import q2_time\n",
    "%prun q2_time(path) # 50.743 seconds"
   ]
  },
  {
   "cell_type": "markdown",
   "metadata": {},
   "source": [
    "Código para analizar el uso de memoria"
   ]
  },
  {
   "cell_type": "code",
   "execution_count": 35,
   "metadata": {},
   "outputs": [],
   "source": [
    "from q2_time import q2_time\n",
    "\n",
    "# memit --> retorna el consumo general de memoria\n",
    "%memit q2_time(path) # peak memory: 1651.18 MiB, increment: 1178.53 MiB"
   ]
  },
  {
   "cell_type": "code",
   "execution_count": 36,
   "metadata": {},
   "outputs": [
    {
     "name": "stdout",
     "output_type": "stream",
     "text": [
      "\n"
     ]
    }
   ],
   "source": [
    "# mprun --> retorna el consumo linea por linea\n",
    "%mprun -f q2_time q2_time(path) "
   ]
  },
  {
   "cell_type": "markdown",
   "metadata": {},
   "source": [
    "# Ejercicio 3"
   ]
  },
  {
   "cell_type": "markdown",
   "metadata": {},
   "source": [
    "Para poder retornar el top 10 histórico de usuarios (username) más influyentes, en función del conteo de las menciones (@) que registra cada uno de ellos, de la información disponible solo tome el campo mentionedUsers (campo contiene el listado de users mensionados en el tweet). Como primera instancia elimine las lineas donde el campo mentionedUsers es null porque en esos casos no se menciona a nadie. Luego de toda la información me quede solo con el username y genere filas por cada uno de los elementos dentro de la lista de mencionados. Agrupe valores por username y conte la cantidad de apariciones. Por último genere la lista de tuplas (mentioned_users, count) y me quede con los 10 username que mayor cantidad tuvieron. Esta lista final es lo que se retorna como **resultado**."
   ]
  },
  {
   "cell_type": "markdown",
   "metadata": {},
   "source": [
    "# Optimización de Memoria"
   ]
  },
  {
   "cell_type": "markdown",
   "metadata": {},
   "source": [
    "En este caso opte por utilizar como **tecnología pyspark** que aprovecha mejor los recursos.   "
   ]
  },
  {
   "cell_type": "markdown",
   "metadata": {},
   "source": [
    "Código para ejecutar de solución"
   ]
  },
  {
   "cell_type": "code",
   "execution_count": 8,
   "metadata": {},
   "outputs": [],
   "source": [
    "from q3_memory import q3_memory\n",
    "\n",
    "print(q3_memory(path)) "
   ]
  },
  {
   "cell_type": "markdown",
   "metadata": {},
   "source": [
    "Código para analizar el tiempo de ejecución"
   ]
  },
  {
   "cell_type": "code",
   "execution_count": 7,
   "metadata": {
    "scrolled": true
   },
   "outputs": [],
   "source": [
    "from q3_memory import q3_memory\n",
    "%prun q3_memory(path) # 6.419 seconds ejemplo de una de las ejecuciones"
   ]
  },
  {
   "cell_type": "markdown",
   "metadata": {},
   "source": [
    "Código para analizar el uso de memoria"
   ]
  },
  {
   "cell_type": "code",
   "execution_count": 5,
   "metadata": {},
   "outputs": [],
   "source": [
    "from q3_memory import q3_memory\n",
    "\n",
    "# memit --> retorna el consumo general de memoria\n",
    "%memit q3_memory(path) # peak memory: 130.83 MiB, increment: 2.71 MiB"
   ]
  },
  {
   "cell_type": "code",
   "execution_count": 6,
   "metadata": {},
   "outputs": [],
   "source": [
    "# mprun --> retorna el consumo linea por linea\n",
    "%mprun -f q3_memory q3_memory(path) "
   ]
  },
  {
   "cell_type": "markdown",
   "metadata": {},
   "source": [
    "# Optimización de Tiempo de ejecución"
   ]
  },
  {
   "cell_type": "markdown",
   "metadata": {},
   "source": [
    "En este caso opte por utilizar como **tecnología python/pandas**.   "
   ]
  },
  {
   "cell_type": "markdown",
   "metadata": {},
   "source": [
    "Código para ejecutar la solución"
   ]
  },
  {
   "cell_type": "code",
   "execution_count": 4,
   "metadata": {},
   "outputs": [],
   "source": [
    "from q3_time import q3_time\n",
    "\n",
    "print(q3_time(path)) "
   ]
  },
  {
   "cell_type": "markdown",
   "metadata": {},
   "source": [
    "Código para analizar el tiempo de ejecución"
   ]
  },
  {
   "cell_type": "code",
   "execution_count": 5,
   "metadata": {
    "scrolled": true
   },
   "outputs": [],
   "source": [
    "from q3_time import q3_time\n",
    "%prun q3_time(path) # 8.164 seconds ejemplo de una de las ejecuciones"
   ]
  },
  {
   "cell_type": "markdown",
   "metadata": {},
   "source": [
    "Código para analizar el uso de memoria"
   ]
  },
  {
   "cell_type": "code",
   "execution_count": 3,
   "metadata": {},
   "outputs": [],
   "source": [
    "from q3_time import q3_time\n",
    "\n",
    "# memit --> retorna el consumo general de memoria\n",
    "%memit q3_time(path) # peak memory: 1618.73 MiB, increment: 1397.87 MiB"
   ]
  },
  {
   "cell_type": "code",
   "execution_count": 7,
   "metadata": {},
   "outputs": [
    {
     "name": "stdout",
     "output_type": "stream",
     "text": [
      "\n"
     ]
    }
   ],
   "source": [
    "# mprun --> retorna el consumo linea por linea\n",
    "%mprun -f q3_time q3_time(path) "
   ]
  }
 ],
 "metadata": {
  "kernelspec": {
   "display_name": "Python 3 (ipykernel)",
   "language": "python",
   "name": "python3"
  },
  "language_info": {
   "codemirror_mode": {
    "name": "ipython",
    "version": 3
   },
   "file_extension": ".py",
   "mimetype": "text/x-python",
   "name": "python",
   "nbconvert_exporter": "python",
   "pygments_lexer": "ipython3",
   "version": "3.11.4"
  }
 },
 "nbformat": 4,
 "nbformat_minor": 2
}
